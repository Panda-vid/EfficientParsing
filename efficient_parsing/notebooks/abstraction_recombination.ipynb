{
 "cells": [
  {
   "cell_type": "markdown",
   "source": [
    "# Entity Abstractor and Recombination Step"
   ],
   "metadata": {
    "collapsed": false,
    "pycharm": {
     "name": "#%% md\n"
    }
   }
  },
  {
   "cell_type": "markdown",
   "source": [
    "## Load table"
   ],
   "metadata": {
    "collapsed": false,
    "pycharm": {
     "name": "#%% md\n"
    }
   }
  },
  {
   "cell_type": "code",
   "execution_count": 3,
   "outputs": [],
   "source": [
    "import pandas as pd"
   ],
   "metadata": {
    "collapsed": false,
    "pycharm": {
     "name": "#%%\n"
    }
   }
  },
  {
   "cell_type": "code",
   "execution_count": 4,
   "outputs": [
    {
     "data": {
      "text/plain": "        Date       Slot       Name    Surname                          Email  \\\n0   01.04.22  1000-1015    Juergen     Bieber         JurgenBieber@rhyta.com   \n1   01.04.22  1015-1030      Ralph  Eberhardt  RalphEberhardt@jourrapide.com   \n2   01.04.22  1045-1100     Dennis      Braun        DennisBraun@teleworm.us   \n3   01.04.22  1100-1145     Julia      Farber        JuliaFarber@teleworm.us   \n4   01.04.22  1200-1215     Sophie      Boehm        SophieBoehm@teleworm.us   \n5   04.04.22  0900-0915      Maria    Schmitz       MariaSchmitz@armyspy.com   \n6   04.04.22  1330-1400    Steffen    Schulze  SteffenSchulze@jourrapide.com   \n7   04.04.22  1415-1430  Katharina      Nacht  KatharinaNacht@jourrapide.com   \n8   05.04.22  1600-1615     Robert   Pfeiffer     RobertPfeiffer@armyspy.com   \n9   05.04.22  1615-1700      Laura    Freytag         LauraFreytag@rhyta.com   \n10  05.04.22  1700-1715    Florian     Wagner       FlorianWagner@dayrep.com   \n\n         Phone                           Private Notes  \n0   6138848100                           first meeting  \n1   2622449580  wants to know about programming basics  \n2   6020797114              interesting project advice  \n3   5323961496                                kick off  \n4   3940528208                            regular meet  \n5   7252323962                   questions about exams  \n6   9383460916                                       -  \n7   7255610166                            regular meet  \n8   9519884353                 questions about project  \n9   3417252072                                kick off  \n10  6281589915                           first meeting  ",
      "text/html": "<div>\n<style scoped>\n    .dataframe tbody tr th:only-of-type {\n        vertical-align: middle;\n    }\n\n    .dataframe tbody tr th {\n        vertical-align: top;\n    }\n\n    .dataframe thead th {\n        text-align: right;\n    }\n</style>\n<table border=\"1\" class=\"dataframe\">\n  <thead>\n    <tr style=\"text-align: right;\">\n      <th></th>\n      <th>Date</th>\n      <th>Slot</th>\n      <th>Name</th>\n      <th>Surname</th>\n      <th>Email</th>\n      <th>Phone</th>\n      <th>Private Notes</th>\n    </tr>\n  </thead>\n  <tbody>\n    <tr>\n      <th>0</th>\n      <td>01.04.22</td>\n      <td>1000-1015</td>\n      <td>Juergen</td>\n      <td>Bieber</td>\n      <td>JurgenBieber@rhyta.com</td>\n      <td>6138848100</td>\n      <td>first meeting</td>\n    </tr>\n    <tr>\n      <th>1</th>\n      <td>01.04.22</td>\n      <td>1015-1030</td>\n      <td>Ralph</td>\n      <td>Eberhardt</td>\n      <td>RalphEberhardt@jourrapide.com</td>\n      <td>2622449580</td>\n      <td>wants to know about programming basics</td>\n    </tr>\n    <tr>\n      <th>2</th>\n      <td>01.04.22</td>\n      <td>1045-1100</td>\n      <td>Dennis</td>\n      <td>Braun</td>\n      <td>DennisBraun@teleworm.us</td>\n      <td>6020797114</td>\n      <td>interesting project advice</td>\n    </tr>\n    <tr>\n      <th>3</th>\n      <td>01.04.22</td>\n      <td>1100-1145</td>\n      <td>Julia</td>\n      <td>Farber</td>\n      <td>JuliaFarber@teleworm.us</td>\n      <td>5323961496</td>\n      <td>kick off</td>\n    </tr>\n    <tr>\n      <th>4</th>\n      <td>01.04.22</td>\n      <td>1200-1215</td>\n      <td>Sophie</td>\n      <td>Boehm</td>\n      <td>SophieBoehm@teleworm.us</td>\n      <td>3940528208</td>\n      <td>regular meet</td>\n    </tr>\n    <tr>\n      <th>5</th>\n      <td>04.04.22</td>\n      <td>0900-0915</td>\n      <td>Maria</td>\n      <td>Schmitz</td>\n      <td>MariaSchmitz@armyspy.com</td>\n      <td>7252323962</td>\n      <td>questions about exams</td>\n    </tr>\n    <tr>\n      <th>6</th>\n      <td>04.04.22</td>\n      <td>1330-1400</td>\n      <td>Steffen</td>\n      <td>Schulze</td>\n      <td>SteffenSchulze@jourrapide.com</td>\n      <td>9383460916</td>\n      <td>-</td>\n    </tr>\n    <tr>\n      <th>7</th>\n      <td>04.04.22</td>\n      <td>1415-1430</td>\n      <td>Katharina</td>\n      <td>Nacht</td>\n      <td>KatharinaNacht@jourrapide.com</td>\n      <td>7255610166</td>\n      <td>regular meet</td>\n    </tr>\n    <tr>\n      <th>8</th>\n      <td>05.04.22</td>\n      <td>1600-1615</td>\n      <td>Robert</td>\n      <td>Pfeiffer</td>\n      <td>RobertPfeiffer@armyspy.com</td>\n      <td>9519884353</td>\n      <td>questions about project</td>\n    </tr>\n    <tr>\n      <th>9</th>\n      <td>05.04.22</td>\n      <td>1615-1700</td>\n      <td>Laura</td>\n      <td>Freytag</td>\n      <td>LauraFreytag@rhyta.com</td>\n      <td>3417252072</td>\n      <td>kick off</td>\n    </tr>\n    <tr>\n      <th>10</th>\n      <td>05.04.22</td>\n      <td>1700-1715</td>\n      <td>Florian</td>\n      <td>Wagner</td>\n      <td>FlorianWagner@dayrep.com</td>\n      <td>6281589915</td>\n      <td>first meeting</td>\n    </tr>\n  </tbody>\n</table>\n</div>"
     },
     "execution_count": 4,
     "metadata": {},
     "output_type": "execute_result"
    }
   ],
   "source": [
    "csv_file = \"/home/pandavid/uni/BA/time_slots.csv\"\n",
    "table_data = pd.read_csv(csv_file, sep=\",\", dtype=\"string\").fillna(\"-\")\n",
    "table_data"
   ],
   "metadata": {
    "collapsed": false,
    "pycharm": {
     "name": "#%%\n"
    }
   }
  },
  {
   "cell_type": "markdown",
   "source": [
    "## Internal tabular representation"
   ],
   "metadata": {
    "collapsed": false,
    "pycharm": {
     "name": "#%% md\n"
    }
   }
  },
  {
   "cell_type": "code",
   "execution_count": 5,
   "outputs": [],
   "source": [
    "from src.datamodel.Table import Table"
   ],
   "metadata": {
    "collapsed": false,
    "pycharm": {
     "name": "#%%\n"
    }
   }
  },
  {
   "cell_type": "code",
   "execution_count": 6,
   "outputs": [],
   "source": [
    "table = Table(table_data, \"time_slots\", \"meeting planning\")"
   ],
   "metadata": {
    "collapsed": false,
    "pycharm": {
     "name": "#%%\n"
    }
   }
  },
  {
   "cell_type": "markdown",
   "source": [
    "## Use Entity Abstractor"
   ],
   "metadata": {
    "collapsed": false,
    "pycharm": {
     "name": "#%% md\n"
    }
   }
  },
  {
   "cell_type": "code",
   "execution_count": 7,
   "outputs": [],
   "source": [
    "from src.entity_abstractor.Abstractor import Abstractor"
   ],
   "metadata": {
    "collapsed": false,
    "pycharm": {
     "name": "#%%\n"
    }
   }
  },
  {
   "cell_type": "code",
   "execution_count": 8,
   "outputs": [],
   "source": [
    "abstractor = Abstractor()\n",
    "string = \"Select the slot, surname and private notes.\""
   ],
   "metadata": {
    "collapsed": false,
    "pycharm": {
     "name": "#%%\n"
    }
   }
  },
  {
   "cell_type": "code",
   "execution_count": 9,
   "outputs": [],
   "source": [
    "abstractor_out = abstractor.extract_sentence_instances_from(string)"
   ],
   "metadata": {
    "collapsed": false,
    "pycharm": {
     "name": "#%%\n"
    }
   }
  },
  {
   "cell_type": "code",
   "execution_count": 10,
   "outputs": [],
   "source": [
    "from src.datamodel.Sentence import Sentence\n",
    "from typing import Tuple, List\n",
    "\n",
    "\n",
    "def print_abstractor_output_sentence_data(abstractor_output: Tuple[Sentence, List[Sentence]], table: Table = None):\n",
    "    sentence, subsentences = abstractor_output\n",
    "    if len(subsentences) == 0:\n",
    "        print_sentence_data(sentence, table)\n",
    "    else:\n",
    "        [print_sentence_data(subsentence, table) for subsentence in subsentences]\n",
    "\n",
    "def print_sentence_data(sentence: Sentence, table: Table):\n",
    "    print(sentence.dependency_tree.as_conll(), \"\\n\")\n",
    "    print(\"Lifted sentence: \", sentence.lifted(table))\n",
    "    print(\"Lifted column names: \", sentence.get_lifted_column_names(table))\n",
    "    print(\"Lifted table names: \", sentence.get_lifted_table_names(table))\n",
    "    print(\"Lifted cases: \", sentence.case_lifted(table))\n",
    "    print(\"Lifted column names in conditions: \", sentence.get_case_lifted_column_names(table))\n",
    "    print(\"Lifted values in conditions: \", sentence.get_lifted_values(), \"\\n\")"
   ],
   "metadata": {
    "collapsed": false,
    "pycharm": {
     "name": "#%%\n"
    }
   }
  },
  {
   "cell_type": "code",
   "execution_count": 11,
   "outputs": [
    {
     "name": "stdout",
     "output_type": "stream",
     "text": [
      "Select VB 0 ROOT LiftableDependencyTreeRootNode\n",
      "the DT 3 det LiftableStopwordDependencyTreeNode\n",
      "slot NN 1 obj LiftableObjectDependencyTreeNode\n",
      ", , 3 punct LiftableStopwordDependencyTreeNode\n",
      "surname NN 3 conj LiftableObjectDependencyTreeNode\n",
      "and CC 8 cc LiftableStopwordDependencyTreeNode\n",
      "private JJ 8 amod LiftableValueDependencyTreeNode\n",
      "notes NNS 3 conj LiftableObjectDependencyTreeNode\n",
      ". . 1 punct LiftableStopwordDependencyTreeNode \n",
      "\n",
      "Lifted sentence:  Select [,column] notes\n",
      "Lifted column names:  [['slot', 'surname']]\n",
      "Lifted table names:  [['time_slots']]\n",
      "Lifted cases:  None\n",
      "Lifted column names in conditions:  []\n",
      "Lifted values in conditions:  [] \n",
      "\n",
      "{'column': [['slot', 'surname']], 'table': [['time_slots']]}\n"
     ]
    }
   ],
   "source": [
    "print_abstractor_output_sentence_data(abstractor_out, table)\n",
    "print(abstractor_out[0].get_input_dict(table))"
   ],
   "metadata": {
    "collapsed": false,
    "pycharm": {
     "name": "#%%\n"
    }
   }
  },
  {
   "cell_type": "markdown",
   "source": [
    "## Recombine with lifted program"
   ],
   "metadata": {
    "collapsed": false,
    "pycharm": {
     "name": "#%% md\n"
    }
   }
  },
  {
   "cell_type": "code",
   "execution_count": 12,
   "outputs": [],
   "source": [
    "from src.combination.FunctionTemplate import FunctionTemplate"
   ],
   "metadata": {
    "collapsed": false,
    "pycharm": {
     "name": "#%%\n"
    }
   }
  },
  {
   "cell_type": "code",
   "execution_count": 13,
   "outputs": [
    {
     "name": "stdout",
     "output_type": "stream",
     "text": [
      "CREATE(['time_slots'], ['slot', 'surname'])\n"
     ]
    }
   ],
   "source": [
    "lifted_program = \"CREATE([table], [,column])\"\n",
    "lifted_condition = \"\"\n",
    "print(FunctionTemplate.ground_lifted_program(\n",
    "    lifted_program, abstractor_out[0].get_input_dict(table), lifted_condition\n",
    "))"
   ],
   "metadata": {
    "collapsed": false,
    "pycharm": {
     "name": "#%%\n"
    }
   }
  },
  {
   "cell_type": "markdown",
   "source": [
    "# Entity Abstraction and Recombination using the data set"
   ],
   "metadata": {
    "collapsed": false,
    "pycharm": {
     "name": "#%% md\n"
    }
   }
  },
  {
   "cell_type": "code",
   "execution_count": 14,
   "outputs": [],
   "source": [
    "from src.entity_abstractor.MockAbstractor import MockAbstractor"
   ],
   "metadata": {
    "collapsed": false,
    "pycharm": {
     "name": "#%%\n"
    }
   }
  },
  {
   "cell_type": "code",
   "execution_count": 19,
   "outputs": [
    {
     "name": "stdout",
     "output_type": "stream",
     "text": [
      "[('Count rows [table] [condition]', {'table': [['time_slots']], 'condition': [{'column': 'date', 'value': 'today'}]}, '[column] later [value]')]\n"
     ]
    }
   ],
   "source": [
    "mock_abstractor_out = MockAbstractor.abstract_utterance(\"Count all rows where date is later than today.\")\n",
    "print(mock_abstractor_out)"
   ],
   "metadata": {
    "collapsed": false,
    "pycharm": {
     "name": "#%%\n"
    }
   }
  },
  {
   "cell_type": "code",
   "execution_count": 20,
   "outputs": [
    {
     "name": "stdout",
     "output_type": "stream",
     "text": [
      "SELECT(['time_slots'], date <= today); COUNT(['time_slots'])\n"
     ]
    }
   ],
   "source": [
    "print(\n",
    "    FunctionTemplate.ground_lifted_program(\"SELECT([table], [condition]); COUNT([table])\", mock_abstractor_out[0][1], \"[column] <= [value]\")\n",
    ")"
   ],
   "metadata": {
    "collapsed": false,
    "pycharm": {
     "name": "#%%\n"
    }
   }
  },
  {
   "cell_type": "code",
   "execution_count": null,
   "outputs": [],
   "source": [],
   "metadata": {
    "collapsed": false,
    "pycharm": {
     "name": "#%%\n"
    }
   }
  }
 ],
 "metadata": {
  "kernelspec": {
   "display_name": "Python 3",
   "language": "python",
   "name": "python3"
  },
  "language_info": {
   "codemirror_mode": {
    "name": "ipython",
    "version": 2
   },
   "file_extension": ".py",
   "mimetype": "text/x-python",
   "name": "python",
   "nbconvert_exporter": "python",
   "pygments_lexer": "ipython2",
   "version": "2.7.6"
  }
 },
 "nbformat": 4,
 "nbformat_minor": 0
}